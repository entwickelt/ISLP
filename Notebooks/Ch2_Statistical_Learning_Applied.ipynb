import requests
from bs4 import BeautifulSoup

url = "http://bscintra.buffalostate.edu/msched/202330-all_courses_ug.html"

# Send a GET request to the URL
response = requests.get(url)
html_content = response.content

# Parse the HTML content using BeautifulSoup
soup = BeautifulSoup(html_content, "html.parser")

# Print the prettified HTML content to the console
print(soup.prettify())

